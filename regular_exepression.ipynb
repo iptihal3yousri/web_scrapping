{
 "cells": [
  {
   "cell_type": "markdown",
   "id": "19352621",
   "metadata": {},
   "source": [
    "import the library"
   ]
  },
  {
   "cell_type": "code",
   "execution_count": 67,
   "id": "d076e2cb",
   "metadata": {},
   "outputs": [],
   "source": [
    "import re"
   ]
  },
  {
   "cell_type": "markdown",
   "id": "403c5519",
   "metadata": {},
   "source": [
    "reading the file"
   ]
  },
  {
   "cell_type": "code",
   "execution_count": 68,
   "id": "9139d1fa",
   "metadata": {},
   "outputs": [
    {
     "name": "stdout",
     "output_type": "stream",
     "text": [
      "Iptihal 01003083801 iptihal.yousri@gmail.com\n",
      "Esraa 01095671358 esraa.maged@gmail.com\n",
      "Sara 01083648952 sara.samir@gmail.com\n",
      "Nadin 01523749852 nadin1.mohamed@gmail.com\n",
      "<class 'str'>\n"
     ]
    }
   ],
   "source": [
    "\n",
    "with open (\"info.txt\" , \"r\" ) as file:\n",
    "    x = (file.read())\n",
    "print(x)\n",
    "print(type(x))"
   ]
  },
  {
   "cell_type": "markdown",
   "id": "98969bfc",
   "metadata": {},
   "source": [
    "creat the email list and fill it with all the emails"
   ]
  },
  {
   "cell_type": "code",
   "execution_count": 69,
   "id": "089dc827",
   "metadata": {},
   "outputs": [
    {
     "name": "stdout",
     "output_type": "stream",
     "text": [
      "['iptihal.yousri@gmail.com', 'esraa.maged@gmail.com', 'sara.samir@gmail.com', 'nadin1.mohamed@gmail.com']\n"
     ]
    }
   ],
   "source": [
    "pattern = re.compile(r\"[a-zA-Z0-9-.]+@[a-zA-Z-]+\\.\\w{3}\")\n",
    "matches = pattern.finditer(x)\n",
    "emails = []\n",
    "for match in matches:\n",
    "    emails.append(x[match.span()[0]:match.span()[1]])\n",
    "print(emails)"
   ]
  },
  {
   "cell_type": "markdown",
   "id": "c0b033fb",
   "metadata": {},
   "source": [
    "creat the name list and fill it with all the names"
   ]
  },
  {
   "cell_type": "code",
   "execution_count": 82,
   "id": "831d4b89",
   "metadata": {},
   "outputs": [
    {
     "name": "stdout",
     "output_type": "stream",
     "text": [
      "['Iptihal ', 'com\\n', 'Esraa ', 'com\\n', 'Sara ', 'com\\n', 'Nadin ']\n"
     ]
    }
   ],
   "source": [
    "pattern = re.compile(r\"[a-zA-Z]+\\s\")\n",
    "matches = pattern.finditer(x)\n",
    "names = []\n",
    "for match in matches:\n",
    "    names.append(x[match.span()[0]:match.span()[1]])\n",
    "print(names)"
   ]
  },
  {
   "cell_type": "code",
   "execution_count": 85,
   "id": "fae6d486",
   "metadata": {},
   "outputs": [],
   "source": [
    "names.remove('com\\n')"
   ]
  },
  {
   "cell_type": "code",
   "execution_count": 86,
   "id": "41e5771d",
   "metadata": {},
   "outputs": [
    {
     "data": {
      "text/plain": [
       "['Iptihal ', 'Esraa ', 'Sara ', 'Nadin ']"
      ]
     },
     "execution_count": 86,
     "metadata": {},
     "output_type": "execute_result"
    }
   ],
   "source": [
    "names"
   ]
  },
  {
   "cell_type": "code",
   "execution_count": null,
   "id": "3f213361",
   "metadata": {},
   "outputs": [],
   "source": []
  }
 ],
 "metadata": {
  "kernelspec": {
   "display_name": "Python 3 (ipykernel)",
   "language": "python",
   "name": "python3"
  },
  "language_info": {
   "codemirror_mode": {
    "name": "ipython",
    "version": 3
   },
   "file_extension": ".py",
   "mimetype": "text/x-python",
   "name": "python",
   "nbconvert_exporter": "python",
   "pygments_lexer": "ipython3",
   "version": "3.10.11"
  }
 },
 "nbformat": 4,
 "nbformat_minor": 5
}
